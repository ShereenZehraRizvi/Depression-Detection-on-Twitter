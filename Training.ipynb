{
 "cells": [
  {
   "cell_type": "markdown",
   "metadata": {},
   "source": [
    "## Imports all in one place"
   ]
  },
  {
   "cell_type": "code",
   "execution_count": 98,
   "metadata": {},
   "outputs": [],
   "source": [
    "import csv\n",
    "import nltk\n",
    "import warnings\n",
    "import numpy as np\n",
    "from numpy.random import seed\n",
    "from gensim.models import Word2Vec\n",
    "from keras.models import Sequential\n",
    "from keras.models import model_from_json\n",
    "from keras.layers import Dense, Conv2D, Flatten\n",
    "from keras.layers import Dense, Dropout, Embedding, LSTM, Bidirectional"
   ]
  },
  {
   "cell_type": "markdown",
   "metadata": {},
   "source": [
    "### Ignoring warnings"
   ]
  },
  {
   "cell_type": "code",
   "execution_count": 99,
   "metadata": {},
   "outputs": [],
   "source": [
    "warnings.filterwarnings('ignore')"
   ]
  },
  {
   "cell_type": "markdown",
   "metadata": {},
   "source": [
    "### FUNCTION: Load LSTM Model"
   ]
  },
  {
   "cell_type": "code",
   "execution_count": 100,
   "metadata": {},
   "outputs": [],
   "source": [
    "def get_lstm_model():\n",
    "    json_file = open('./models/lstm/lstm.json', 'r')\n",
    "    loaded_model_json = json_file.read()\n",
    "    json_file.close()\n",
    "    model = model_from_json(loaded_model_json)\n",
    "    model.load_weights('./models/lstm/lstm.h5') \n",
    "    model.compile(optimizer = 'adam', loss = 'binary_crossentropy')\n",
    "    return model"
   ]
  },
  {
   "cell_type": "markdown",
   "metadata": {},
   "source": [
    "### FUNCTION: Load CNN Model"
   ]
  },
  {
   "cell_type": "code",
   "execution_count": 101,
   "metadata": {},
   "outputs": [],
   "source": [
    "def get_cnn_model():\n",
    "    json_file = open('./models/cnn/cnn.json', 'r')\n",
    "    loaded_model_json = json_file.read()\n",
    "    json_file.close()\n",
    "    model = model_from_json(loaded_model_json)\n",
    "    model.load_weights('./models/cnn/cnn.h5') \n",
    "    model.compile(optimizer = 'adam', loss = 'binary_crossentropy')\n",
    "    return model"
   ]
  },
  {
   "cell_type": "markdown",
   "metadata": {},
   "source": [
    "### FUNCTION: Load Word2Vec Model"
   ]
  },
  {
   "cell_type": "code",
   "execution_count": 102,
   "metadata": {},
   "outputs": [],
   "source": [
    "def get_word2vec_model():\n",
    "    return Word2Vec.load('./models/word2vec/word2vec.model')"
   ]
  },
  {
   "cell_type": "markdown",
   "metadata": {},
   "source": [
    "### FUNCTION: Train Word2Vec Model"
   ]
  },
  {
   "cell_type": "code",
   "execution_count": 103,
   "metadata": {},
   "outputs": [],
   "source": [
    "def train_word2vec_model(path):\n",
    "    wordVecDataset = []\n",
    "    training_file = open(path, encoding = 'utf-8', errors = 'ignore')\n",
    "    csv_reader = csv.reader(training_file, delimiter = ',')\n",
    "    for row in csv_reader:\n",
    "        tokens = nltk.word_tokenize(row[1])\n",
    "        wordVecDataset.append(tokens)\n",
    "    model = Word2Vec(wordVecDataset, min_count = 1, size = 50, workers = 3, window = 3, sg = 1)\n",
    "    model.save('./models/word2vec/word2vec.model')\n",
    "    return model"
   ]
  },
  {
   "cell_type": "markdown",
   "metadata": {},
   "source": [
    "### FUNCTION: Train Bi-LSTM Model"
   ]
  },
  {
   "cell_type": "code",
   "execution_count": 104,
   "metadata": {},
   "outputs": [],
   "source": [
    "def train_lstm_model(x_train, y_train, x_test, y_test, epochs):\n",
    "    model = Sequential()\n",
    "    model.add(Bidirectional(LSTM(128, input_shape = (128, 1))))\n",
    "    model.add(Dense(2, activation = 'softmax'))\n",
    "    model.compile(optimizer = 'adam', loss = 'binary_crossentropy')\n",
    "    model.fit(x_train, y_train, validation_data = (x_test, y_test), batch_size = 200, epochs = epochs, shuffle = True)\n",
    "    model_json = model.to_json()\n",
    "    with open('./models/lstm/lstm.json', 'w') as json_file:\n",
    "        json_file.write(model_json)\n",
    "    model.save_weights('./models/lstm/lstm.h5')\n",
    "    return model"
   ]
  },
  {
   "cell_type": "markdown",
   "metadata": {},
   "source": [
    "### FUNCTION: Dataset for Bi-LSTM Model"
   ]
  },
  {
   "cell_type": "code",
   "execution_count": 105,
   "metadata": {},
   "outputs": [],
   "source": [
    "def get_lstm_data(path):\n",
    "    wordvecModel = get_word2vec_model()\n",
    "    dataset = []\n",
    "    X, Y = [], []\n",
    "    file = open(path, encoding = 'utf-8', errors = 'ignore')\n",
    "    csv_reader = csv.reader(file, delimiter = ',')\n",
    "    for row in csv_reader:\n",
    "        tokens = nltk.word_tokenize(row[1])\n",
    "        dataset.append([tokens, row[2]])\n",
    "    for tweet in dataset:\n",
    "        tweet_tokens = tweet[0]\n",
    "        embeddings = []\n",
    "        for token in tweet_tokens:\n",
    "            embeddings.append([round(abs(sum(wordvecModel[token])) * 10, 4)])\n",
    "        padding = [[0]] * (128 - len(embeddings))\n",
    "        embeddings = embeddings.copy() + padding\n",
    "        X.append(embeddings)\n",
    "        label = int(tweet[1])\n",
    "        if label == 0:\n",
    "            Y.append([0, 1])\n",
    "        else:\n",
    "            Y.append([1, 0])\n",
    "    X = np.array(X)\n",
    "    Y = np.array(Y)\n",
    "    return X, Y"
   ]
  },
  {
   "cell_type": "markdown",
   "metadata": {},
   "source": [
    "### FUNCTION: Train CNN Model"
   ]
  },
  {
   "cell_type": "code",
   "execution_count": 106,
   "metadata": {},
   "outputs": [],
   "source": [
    "def train_cnn_model(x_train, y_train, x_test, y_test, epochs):\n",
    "    cnnModel = Sequential()\n",
    "    cnnModel.add(Conv2D(128, kernel_size = 1, activation = 'relu', input_shape = (1,1,128)))\n",
    "    cnnModel.add(Flatten())\n",
    "    cnnModel.add(Dense(2, activation = 'softmax'))\n",
    "    cnnModel.compile(optimizer = 'adam', loss = 'binary_crossentropy', metrics = ['accuracy'])\n",
    "    cnnModel.fit(x_train, y_train, validation_data = (x_test, y_test), batch_size = 200, epochs = epochs, shuffle = True)\n",
    "    model_json = cnnModel.to_json()\n",
    "    with open('./models/cnn/cnn.json', 'w') as json_file:\n",
    "        json_file.write(model_json)\n",
    "    cnnModel.save_weights('./models/cnn/cnn.h5')\n",
    "    return cnnModel"
   ]
  },
  {
   "cell_type": "markdown",
   "metadata": {},
   "source": [
    "### FUNCTION: Dataset for CNN Model"
   ]
  },
  {
   "cell_type": "code",
   "execution_count": 107,
   "metadata": {},
   "outputs": [],
   "source": [
    "def get_cnn_data(path):\n",
    "    wordvecModel = get_word2vec_model()\n",
    "    dataset = []\n",
    "    X, Y = [], []\n",
    "    file = open(path, encoding = 'utf-8', errors = 'ignore')\n",
    "    csv_reader = csv.reader(file, delimiter = ',')\n",
    "    for row in csv_reader:\n",
    "        tokens = nltk.word_tokenize(row[1])\n",
    "        dataset.append([tokens, row[2]])\n",
    "    for tweet in dataset:\n",
    "        tweet_tokens = tweet[0]\n",
    "        embeddings = []\n",
    "        for token in tweet_tokens:\n",
    "            embeddings.append(round(abs(sum(wordvecModel[token])) * 10, 4))\n",
    "        padding = [0] * (128 - len(embeddings))\n",
    "        embeddings = embeddings.copy() + padding\n",
    "        X.append([[embeddings]])\n",
    "        label = int(tweet[1])\n",
    "        if label == 0:\n",
    "            Y.append([0, 1])\n",
    "        else:\n",
    "            Y.append([1, 0])\n",
    "    X = np.array(X)\n",
    "    Y = np.array(Y)\n",
    "    return X, Y"
   ]
  },
  {
   "cell_type": "markdown",
   "metadata": {},
   "source": [
    "### FUNCTION: Test model"
   ]
  },
  {
   "cell_type": "code",
   "execution_count": 108,
   "metadata": {},
   "outputs": [],
   "source": [
    "def test_model(model, x_test, y_test):\n",
    "    pred_output = model.predict(x_test)\n",
    "    matrix = [[0, 0], [0, 0]]\n",
    "    actual_yes, actual_no, predicted_yes = 0, 0, 0\n",
    "    for i in range(len(y_test)):\n",
    "        if y_test[i][0] == 1:\n",
    "            actual_yes += 1\n",
    "        elif y_test[i][0] == 0:\n",
    "            actual_no += 1\n",
    "        if pred_output[i][0] > 0.5:\n",
    "            predicted_yes += 1\n",
    "        x, y = 0, 0\n",
    "        if y_test[i][0] > 0.5:\n",
    "            x = 1\n",
    "        else:\n",
    "            x = 0\n",
    "        if pred_output[i][0] > 0.5:\n",
    "            y = 1\n",
    "        else:\n",
    "            y = 0\n",
    "        matrix[x][y] += 1\n",
    "    TP = matrix[1][1]\n",
    "    TN = matrix[0][0]\n",
    "    FP = matrix[0][1]\n",
    "    FN = matrix[1][0]\n",
    "    total = len(y_test)\n",
    "    accuracy = (TP + TN) / total\n",
    "    misclassfication = (FP + FN) / total\n",
    "    recall = TP / actual_yes\n",
    "    specificity = TN / actual_no\n",
    "    precision = TP / predicted_yes\n",
    "    f_score = 2 * ((recall * precision) / (recall + precision))\n",
    "    print(\"Confusion Matrix:\", matrix)\n",
    "    print(\"Accuracy: \", accuracy)\n",
    "    print(\"Misclassfication Rate: \", misclassfication)\n",
    "    print(\"True Positive Rate (Recall): \", recall)\n",
    "    print(\"True Negative Rate (Specificity): \", specificity)\n",
    "    print(\"Precision: \", precision)\n",
    "    print(\"F Score: \", f_score)"
   ]
  },
  {
   "cell_type": "markdown",
   "metadata": {},
   "source": [
    "### Train Word2Vec Model"
   ]
  },
  {
   "cell_type": "code",
   "execution_count": 109,
   "metadata": {},
   "outputs": [
    {
     "data": {
      "text/plain": [
       "<gensim.models.word2vec.Word2Vec at 0x1fce087ac50>"
      ]
     },
     "execution_count": 109,
     "metadata": {},
     "output_type": "execute_result"
    }
   ],
   "source": [
    "train_word2vec_model('./corpora/complete.csv')"
   ]
  },
  {
   "cell_type": "markdown",
   "metadata": {},
   "source": [
    "### Training CNN Model"
   ]
  },
  {
   "cell_type": "code",
   "execution_count": 110,
   "metadata": {},
   "outputs": [
    {
     "name": "stdout",
     "output_type": "stream",
     "text": [
      "Epoch 1/10\n",
      "1/1 [==============================] - 1s 1s/step - loss: 0.7056 - accuracy: 0.0000e+00 - val_loss: 0.6956 - val_accuracy: 0.5000\n",
      "Epoch 2/10\n",
      "1/1 [==============================] - 0s 121ms/step - loss: 0.6956 - accuracy: 0.5000 - val_loss: 0.6857 - val_accuracy: 1.0000\n",
      "Epoch 3/10\n",
      "1/1 [==============================] - 0s 105ms/step - loss: 0.6857 - accuracy: 1.0000 - val_loss: 0.6761 - val_accuracy: 1.0000\n",
      "Epoch 4/10\n",
      "1/1 [==============================] - 0s 120ms/step - loss: 0.6761 - accuracy: 1.0000 - val_loss: 0.6666 - val_accuracy: 1.0000\n",
      "Epoch 5/10\n",
      "1/1 [==============================] - 0s 101ms/step - loss: 0.6666 - accuracy: 1.0000 - val_loss: 0.6574 - val_accuracy: 1.0000\n",
      "Epoch 6/10\n",
      "1/1 [==============================] - 0s 135ms/step - loss: 0.6574 - accuracy: 1.0000 - val_loss: 0.6485 - val_accuracy: 1.0000\n",
      "Epoch 7/10\n",
      "1/1 [==============================] - 0s 114ms/step - loss: 0.6485 - accuracy: 1.0000 - val_loss: 0.6399 - val_accuracy: 1.0000\n",
      "Epoch 8/10\n",
      "1/1 [==============================] - 0s 91ms/step - loss: 0.6399 - accuracy: 1.0000 - val_loss: 0.6314 - val_accuracy: 1.0000\n",
      "Epoch 9/10\n",
      "1/1 [==============================] - 0s 95ms/step - loss: 0.6314 - accuracy: 1.0000 - val_loss: 0.6233 - val_accuracy: 1.0000\n",
      "Epoch 10/10\n",
      "1/1 [==============================] - 0s 126ms/step - loss: 0.6233 - accuracy: 1.0000 - val_loss: 0.6152 - val_accuracy: 1.0000\n",
      "WARNING:tensorflow:7 out of the last 8 calls to <function Model.make_predict_function.<locals>.predict_function at 0x000001FCDFFC2048> triggered tf.function retracing. Tracing is expensive and the excessive number of tracings could be due to (1) creating @tf.function repeatedly in a loop, (2) passing tensors with different shapes, (3) passing Python objects instead of tensors. For (1), please define your @tf.function outside of the loop. For (2), @tf.function has experimental_relax_shapes=True option that relaxes argument shapes that can avoid unnecessary retracing. For (3), please refer to https://www.tensorflow.org/guide/function#controlling_retracing and https://www.tensorflow.org/api_docs/python/tf/function for  more details.\n",
      "Confusion Matrix: [[1, 0], [0, 1]]\n",
      "Accuracy:  1.0\n",
      "Misclassfication Rate:  0.0\n",
      "True Positive Rate (Recall):  1.0\n",
      "True Negative Rate (Specificity):  1.0\n",
      "Precision:  1.0\n",
      "F Score:  1.0\n"
     ]
    }
   ],
   "source": [
    "x_train, y_train = get_cnn_data('./corpora/training.csv')\n",
    "x_test, y_test = get_cnn_data('./corpora/testing.csv')\n",
    "cnnModel = train_cnn_model(x_train, y_train, x_test, y_test, 150)\n",
    "test_model(cnnModel, x_test, y_test)"
   ]
  },
  {
   "cell_type": "markdown",
   "metadata": {},
   "source": [
    "### Train LSTM Model"
   ]
  },
  {
   "cell_type": "code",
   "execution_count": 111,
   "metadata": {},
   "outputs": [
    {
     "name": "stdout",
     "output_type": "stream",
     "text": [
      "Epoch 1/10\n",
      "1/1 [==============================] - 7s 7s/step - loss: 0.6924 - val_loss: 0.6895\n",
      "Epoch 2/10\n",
      "1/1 [==============================] - 0s 231ms/step - loss: 0.6895 - val_loss: 0.6867\n",
      "Epoch 3/10\n",
      "1/1 [==============================] - 0s 297ms/step - loss: 0.6867 - val_loss: 0.6838\n",
      "Epoch 4/10\n",
      "1/1 [==============================] - 0s 324ms/step - loss: 0.6838 - val_loss: 0.6809\n",
      "Epoch 5/10\n",
      "1/1 [==============================] - 0s 323ms/step - loss: 0.6809 - val_loss: 0.6779\n",
      "Epoch 6/10\n",
      "1/1 [==============================] - 0s 288ms/step - loss: 0.6779 - val_loss: 0.6748\n",
      "Epoch 7/10\n",
      "1/1 [==============================] - 0s 286ms/step - loss: 0.6748 - val_loss: 0.6716\n",
      "Epoch 8/10\n",
      "1/1 [==============================] - 0s 250ms/step - loss: 0.6716 - val_loss: 0.6682\n",
      "Epoch 9/10\n",
      "1/1 [==============================] - 0s 236ms/step - loss: 0.6682 - val_loss: 0.6646\n",
      "Epoch 10/10\n",
      "1/1 [==============================] - 0s 234ms/step - loss: 0.6646 - val_loss: 0.6608\n",
      "WARNING:tensorflow:8 out of the last 9 calls to <function Model.make_predict_function.<locals>.predict_function at 0x000001FCE0B366A8> triggered tf.function retracing. Tracing is expensive and the excessive number of tracings could be due to (1) creating @tf.function repeatedly in a loop, (2) passing tensors with different shapes, (3) passing Python objects instead of tensors. For (1), please define your @tf.function outside of the loop. For (2), @tf.function has experimental_relax_shapes=True option that relaxes argument shapes that can avoid unnecessary retracing. For (3), please refer to https://www.tensorflow.org/guide/function#controlling_retracing and https://www.tensorflow.org/api_docs/python/tf/function for  more details.\n",
      "Confusion Matrix: [[1, 0], [0, 1]]\n",
      "Accuracy:  1.0\n",
      "Misclassfication Rate:  0.0\n",
      "True Positive Rate (Recall):  1.0\n",
      "True Negative Rate (Specificity):  1.0\n",
      "Precision:  1.0\n",
      "F Score:  1.0\n"
     ]
    }
   ],
   "source": [
    "x_train, y_train = get_lstm_data('./corpora/training.csv')\n",
    "x_test, y_test = get_lstm_data('./corpora/testing.csv')\n",
    "lstmModel = train_lstm_model(x_train, y_train, x_test, y_test, 150)\n",
    "test_model(lstmModel, x_test, y_test)"
   ]
  },
  {
   "cell_type": "code",
   "execution_count": null,
   "metadata": {},
   "outputs": [],
   "source": []
  }
 ],
 "metadata": {
  "kernelspec": {
   "display_name": "Python 3",
   "language": "python",
   "name": "python3"
  },
  "language_info": {
   "codemirror_mode": {
    "name": "ipython",
    "version": 3
   },
   "file_extension": ".py",
   "mimetype": "text/x-python",
   "name": "python",
   "nbconvert_exporter": "python",
   "pygments_lexer": "ipython3",
   "version": "3.6.1"
  }
 },
 "nbformat": 4,
 "nbformat_minor": 4
}
